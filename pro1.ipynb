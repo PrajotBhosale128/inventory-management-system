{
  "nbformat": 4,
  "nbformat_minor": 0,
  "metadata": {
    "colab": {
      "name": "pro1.ipynb",
      "provenance": [],
      "collapsed_sections": []
    },
    "kernelspec": {
      "name": "python3",
      "display_name": "Python 3"
    },
    "language_info": {
      "name": "python"
    }
  },
  "cells": [
    {
      "cell_type": "code",
      "metadata": {
        "id": "svivAaw6O_ZK"
      },
      "source": [
        "invent = {1001 : {\"name\": \"doms\", \"cost\": 10 , \"qty\" : 20, \"company\": \"yuva\"},\n",
        "        1002 : {\"name\": \"nataraj\", \"cost\": 6 , \"qty\" : 50 , \"company\":\"hindustan pencils pvtltd\"},\n",
        "        1003 : {\"name\": \"apsara\", \"cost\": 15 , \"qty\" : 100 , \"company\":\"hindustan pencil\"},\n",
        "        1004 : {\"name\": \"camel scale\", \"cost\": 20 , \"qty\" : 100 , \"company\":\"camel\"},\n",
        "        1005 : {\"name\": \"cello hi-lighter\", \"cost\": 40 , \"qty\" : 100 , \"company\":\"cello pvtltd\"},\n",
        "        1006 : {\"name\": \"file bag\" , \"cost\": 50 , \"qty\": 50 , \"company\":\"greatDio\"},\n",
        "        1007 : {\"name\": \"pastel\", \"cost\": 120 , \"qty\" : 200, \"company\": \"yuva\"},\n",
        "        1008 : {\"name\": \"colour burst\", \"cost\": 90 , \"qty\" : 500, \"company\": \"classmate\"},\n",
        "        1009 : {\"name\": \"stationery bag\", \"cost\": 300 , \"qty\" :40, \"company\": \"apsara pvtltd\"},\n",
        "        1010 : {\"name\": \"fader-castell textliner\", \"cost\": 100 , \"qty\" : 400, \"company\": \"faber-castell\"},\n",
        "        1011 : {\"name\": \"mesh desk\", \"cost\": 1000 , \"qty\" : 10, \"company\": \"hindustan pvtltd\"},\n",
        "        1012 : {\"name\": \"foam sheet\", \"cost\": 250 , \"qty\" : 20, \"company\": \"lakeer\"},\n",
        "        1013 : {\"name\": \"transparent tap\", \"cost\": 200 , \"qty\" : 154, \"company\": \"vozfid\"},\n",
        "        1014 : {\"name\": \"apsara scholars kit\", \"cost\": 450 , \"qty\" : 45, \"company\": \"apsara\"},\n",
        "        1015 : {\"name\": \"ball pen cello\", \"cost\": 41 , \"qty\" : 154, \"company\": \"cello\"},\n",
        "        1016 : {\"name\": \"gel pen cello\", \"cost\": 150 , \"qty\" : 142, \"company\": \"cello\"},\n",
        "        1017 : {\"name\": \"fountain\", \"cost\": 1500 , \"qty\" : 10, \"company\": \"pilot\"},\n",
        "        1018 : {\"name\": \"tap\", \"cost\": 10 , \"qty\" : 1000, \"company\": \"yuva\"},\n",
        "        1019 : {\"name\": \"marker\", \"cost\": 150 , \"qty\" : 120 , \"company\": \"java\"},\n",
        "        1020 : {\"name\": \"pencil box\", \"cost\": 200 , \"qty\" : 150, \"company\": \"classmate\"},\n",
        "        1021 : {\"name\": \"doms pen\", \"cost\": 180 , \"qty\" : 45, \"company\": \"yuva\"},\n",
        "        1022 : {\"name\": \" exam board \", \"cost\": 1000 , \"qty\" : 24, \"company\": \"kaajal pvtltd\"},\n",
        "        1023 : {\"name\": \"erase\", \"cost\": 14 , \"qty\" : 10, \"company\": \"navlat\"},\n",
        "        1024 : {\"name\": \"paint brush\", \"cost\": 210 , \"qty\" : 120, \"company\": \"yuva\"},\n",
        "        1025 : {\"name\": \"glliter gel pen\", \"cost\": 1500 , \"qty\" : 40, \"company\": \"camel\"},\n",
        "        1026 : {\"name\": \"eraser set\", \"cost\": 200 , \"qty\" : 154, \"company\": \"apsara\"},\n",
        "        1026 : {\"name\": \"doms colour set\", \"cost\": 70 , \"qty\" : 14 , \"company\": \"cameline\"},\n",
        "        1027 : {\"name\": \"cello bell pen 20\", \"cost\": 1100 , \"qty\" : 10, \"company\": \"cello\"},\n",
        "        1028 : {\"name\": \"document sleev\", \"cost\": 142 , \"qty\" : 450, \"company\": \"furri.ltd\"},\n",
        "        1029 : {\"name\": \"craft glue\", \"cost\": 542 , \"qty\" : 40, \"company\": \"fevicol\"},\n",
        "        1030 : {\"name\": \"plastic foulder\", \"cost\": 457, \"qty\" : 10, \"company\": \"radhe ltd\"},\n",
        "\n",
        "\n",
        "        }"
      ],
      "execution_count": 27,
      "outputs": []
    },
    {
      "cell_type": "code",
      "metadata": {
        "id": "BNCTU75QPIqd"
      },
      "source": [
        "import json\n",
        "js = json.dumps(invent)\n",
        "fd = open('invent.json','w')\n",
        "fd.write(js)\n",
        "fd.close()"
      ],
      "execution_count": 28,
      "outputs": []
    },
    {
      "cell_type": "code",
      "metadata": {
        "id": "po3CiuMCPOvx"
      },
      "source": [
        "fd = open(\"invent.json\",'r')\n",
        "r = fd.read()  \n",
        "fd.close()\n",
        "\n",
        "records = json.loads(r)"
      ],
      "execution_count": 29,
      "outputs": []
    },
    {
      "cell_type": "code",
      "metadata": {
        "colab": {
          "base_uri": "https://localhost:8080/"
        },
        "id": "A8Ly_9ziPyGz",
        "outputId": "b91ed0e9-cae5-4d10-b4db-841c947c5ba3"
      },
      "source": [
        "for i in records:\n",
        "  print('Product ID:{}, name: {}, cost: {}, qty:{} , company: {}'.format(i,records[i]['name'], records[i]['cost'], records[i]['qty'],records[i]['company']))"
      ],
      "execution_count": 30,
      "outputs": [
        {
          "output_type": "stream",
          "name": "stdout",
          "text": [
            "Product ID:1001, name: doms, cost: 10, qty:20 , company: yuva\n",
            "Product ID:1002, name: nataraj, cost: 6, qty:50 , company: hindustan pencils pvtltd\n",
            "Product ID:1003, name: apsara, cost: 15, qty:100 , company: hindustan pencil\n",
            "Product ID:1004, name: camel scale, cost: 20, qty:100 , company: camel\n",
            "Product ID:1005, name: cello hi-lighter, cost: 40, qty:100 , company: cello pvtltd\n",
            "Product ID:1006, name: file bag, cost: 50, qty:50 , company: greatDio\n",
            "Product ID:1007, name: pastel, cost: 120, qty:200 , company: yuva\n",
            "Product ID:1008, name: colour burst, cost: 90, qty:500 , company: classmate\n",
            "Product ID:1009, name: stationery bag, cost: 300, qty:40 , company: apsara pvtltd\n",
            "Product ID:1010, name: fader-castell textliner, cost: 100, qty:400 , company: faber-castell\n",
            "Product ID:1011, name: mesh desk, cost: 1000, qty:10 , company: hindustan pvtltd\n",
            "Product ID:1012, name: foam sheet, cost: 250, qty:20 , company: lakeer\n",
            "Product ID:1013, name: transparent tap, cost: 200, qty:154 , company: vozfid\n",
            "Product ID:1014, name: apsara scholars kit, cost: 450, qty:45 , company: apsara\n",
            "Product ID:1015, name: ball pen cello, cost: 41, qty:154 , company: cello\n",
            "Product ID:1016, name: gel pen cello, cost: 150, qty:142 , company: cello\n",
            "Product ID:1017, name: fountain, cost: 1500, qty:10 , company: pilot\n",
            "Product ID:1018, name: tap, cost: 10, qty:1000 , company: yuva\n",
            "Product ID:1019, name: marker, cost: 150, qty:120 , company: java\n",
            "Product ID:1020, name: pencil box, cost: 200, qty:150 , company: classmate\n",
            "Product ID:1021, name: doms pen, cost: 180, qty:45 , company: yuva\n",
            "Product ID:1022, name:  exam board , cost: 1000, qty:24 , company: kaajal pvtltd\n",
            "Product ID:1023, name: erase, cost: 14, qty:10 , company: navlat\n",
            "Product ID:1024, name: paint brush, cost: 210, qty:120 , company: yuva\n",
            "Product ID:1025, name: glliter gel pen, cost: 1500, qty:40 , company: camel\n",
            "Product ID:1026, name: doms colour set, cost: 70, qty:14 , company: cameline\n",
            "Product ID:1027, name: cello bell pen 20, cost: 1100, qty:10 , company: cello\n",
            "Product ID:1028, name: document sleev, cost: 142, qty:450 , company: furri.ltd\n",
            "Product ID:1029, name: craft glue, cost: 542, qty:40 , company: fevicol\n",
            "Product ID:1030, name: plastic foulder, cost: 457, qty:10 , company: radhe ltd\n"
          ]
        }
      ]
    },
    {
      "cell_type": "code",
      "metadata": {
        "id": "-6jFqWafRBE6",
        "colab": {
          "base_uri": "https://localhost:8080/"
        },
        "outputId": "8cea2867-e2a0-4828-abc7-93c696812724"
      },
      "source": [
        "\n",
        "ui_name = str(input(\"Customer name: \"))\n",
        "ui_prod  = str(input(\"Enter the product_Id: \"))\n",
        "ui_quant = int(input(\"Enter the quantity: \"))\n",
        "\n",
        "print(\"*\" * 20)\n",
        "print(ui_name)\n",
        "print(\"Product: \", records[ui_prod]['name'])\n",
        "print(\"Price: \", records[ui_prod]['cost'])\n",
        "print(\"quantity: \", records[ui_prod]['qty'])\n",
        "print(\"origin: \", records[ui_prod]['company'])\n",
        "print(\"*\" * 25)\n",
        "print(\"Billing Amount: \", records[ui_prod]['cost'] * ui_quant)\n",
        "print(\"*\" * 25)\n",
        "\n",
        "records[ui_prod]['qty'] = records[ui_prod]['qty'] - ui_quant"
      ],
      "execution_count": 31,
      "outputs": [
        {
          "output_type": "stream",
          "name": "stdout",
          "text": [
            "Customer name: prajot\n",
            "Enter the product_Id: 1024\n",
            "Enter the quantity: 1\n",
            "********************\n",
            "prajot\n",
            "Product:  paint brush\n",
            "Price:  210\n",
            "quantity:  120\n",
            "origin:  yuva\n",
            "*************************\n",
            "Billing Amount:  210\n",
            "*************************\n"
          ]
        }
      ]
    },
    {
      "cell_type": "code",
      "metadata": {
        "id": "NOj0yYr7TMg7"
      },
      "source": [
        "js = json.dumps(records)\n",
        "\n",
        "fd = open(\"invent.json\",'w')\n",
        "fd.write(js)\n",
        "fd.close()"
      ],
      "execution_count": 32,
      "outputs": []
    },
    {
      "cell_type": "code",
      "metadata": {
        "id": "vO52hKIHTZvs"
      },
      "source": [
        "sales = {'prod' : ui_prod, 'qty' : ui_quant,'amount': records[ui_prod]['cost'] * ui_quant}\n",
        "sale = json.dumps(sales)\n",
        "fd = open(\"sales.json\",'w')\n",
        "fd.write(sale)\n",
        "fd.close()"
      ],
      "execution_count": null,
      "outputs": []
    }
  ]
}